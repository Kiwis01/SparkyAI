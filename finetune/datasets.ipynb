{
 "cells": [
  {
   "cell_type": "markdown",
   "metadata": {},
   "source": [
    "# Finetuning Gemini"
   ]
  },
  {
   "cell_type": "markdown",
   "metadata": {},
   "source": [
    "We create our manual curated dataset from web via webscraping aswell as use existing datasets to power gemini directed towards ASU and function tools"
   ]
  },
  {
   "cell_type": "markdown",
   "metadata": {},
   "source": [
    "Gemini has a [limit](https://cloud.google.com/vertex-ai/generative-ai/docs/models/gemini-supervised-tuning#gemini-1.5-flash) of training 128,000 examples via jsonl for finetuning purpose Gemini 1.5 Flash "
   ]
  },
  {
   "cell_type": "markdown",
   "metadata": {},
   "source": [
    "![{FF354BCB-372F-40C1-9BEB-4B21951A3098}.png](https://i.ibb.co/Q6LQhDT/image.png)"
   ]
  },
  {
   "cell_type": "markdown",
   "metadata": {},
   "source": [
    "## Splitting Dataset"
   ]
  },
  {
   "cell_type": "markdown",
   "metadata": {},
   "source": [
    "We will be splitting out the dataset in multiple parts: \n",
    "\n",
    "To allocate the dataset examples across defined categories while adhering to the **128,000 example limit** for Gemini 1.5 Flash:\n",
    "\n",
    "| **Category**                  | **Description**                             | **Proportion (%)** | **Number of Examples** |\n",
    "|--------------------------------|---------------------------------------------|---------------------|-------------------------|\n",
    "| **Factual Questions**          | Questions requiring concise, factual answers, such as \"What are the library hours?\" | 30%                 | 38,400                 |\n",
    "| **Action-Based Questions**     | Queries requiring JSON function calls, such as \"Find the latest scholarships.\"      | 25%                 | 32,000                 |\n",
    "| **Hybrid Questions**           | Queries needing reasoning + a function call, such as \"Can you summarize this and get related events?\" | 20%                 | 25,600                 |\n",
    "| **Agent Communication Responses** | Multi-agent interaction responses combining reasoning and function calls           | 15%                 | 19,200                 |\n",
    "| **Jailbreak Commands**         | Edge-case inputs requiring safe acknowledgment or refusal                            | 10%                 | 12,800                 |\n"
   ]
  },
  {
   "cell_type": "markdown",
   "metadata": {},
   "source": [
    "### Dataset example for [gemini-1.5-pro and gemini-1.5-flash](https://cloud.google.com/vertex-ai/generative-ai/docs/models/gemini-supervised-tuning-prepare#dataset_example_for_gemini-15-pro_and_gemini-15-flash)"
   ]
  },
  {
   "cell_type": "markdown",
   "metadata": {},
   "source": [
    "```json \n",
    "{\n",
    "  \"systemInstruction\": {\n",
    "    \"role\": \"system\",\n",
    "    \"parts\": [\n",
    "      {\n",
    "        \"text\": \"You are an AI assistant for ASU students. Provide helpful information about the university and use appropriate functions when necessary.\"\n",
    "      }\n",
    "    ]\n",
    "  },\n",
    "  \"contents\": [\n",
    "    {\n",
    "      \"role\": \"user\",\n",
    "      \"parts\": [\n",
    "        {\n",
    "          \"text\": \"What are the library hours today?\"\n",
    "        }\n",
    "      ]\n",
    "    },\n",
    "    {\n",
    "      \"role\": \"model\",\n",
    "      \"parts\": [\n",
    "        {\n",
    "          \"text\": \"To get the most up-to-date library hours, I'll need to check the current information. Let me do that for you. [FUNCTION_CALL: getlivelibrarystatusself()]\"\n",
    "        }\n",
    "      ]\n",
    "    }\n",
    "  ]\n",
    "}\n",
    "```"
   ]
  }
 ],
 "metadata": {
  "language_info": {
   "name": "python"
  }
 },
 "nbformat": 4,
 "nbformat_minor": 2
}
